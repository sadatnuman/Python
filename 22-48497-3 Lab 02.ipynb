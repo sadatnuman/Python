{
  "cells": [
    {
      "cell_type": "markdown",
      "metadata": {
        "id": "tUakohw5RzmN"
      },
      "source": [
        "# About this notebook\n",
        "<p style=\"text-align: justify\"> Here, you will learn the basic coding and data structures including numbers, strings, list, dictionaries and more. Some codes already done for demonstration. Some other codes, you will do as excercises.</p>\n",
        "\n",
        "## Submission\n",
        "<p style=\"text-align: justify\">After completing the practice codes and exercises, download the notebook (.pynb file) and submit the notebook  to MS Teams inbox in the class period</p>\n",
        "<p> 1.<b> You must submit your own code</b>. If similarity found negative marking will be given.</p>\n",
        "<p> 2. Modify the file name writing ID at the beigining of the file name. </p><p><b>Example: 20-45961-3 Lab 01.ipynb</b></p>\n",
        "<p> 3. Other file format (except .pynb) or link will not be accepted.</p>"
      ]
    },
    {
      "cell_type": "markdown",
      "metadata": {
        "id": "iQlhsnAxRzmQ"
      },
      "source": [
        "# Number"
      ]
    },
    {
      "cell_type": "markdown",
      "source": [
        "**Basic Arithmetic Operations**"
      ],
      "metadata": {
        "id": "o2tdR7GeesS-"
      }
    },
    {
      "cell_type": "code",
      "execution_count": null,
      "metadata": {
        "id": "EgjVFy62RzmR",
        "outputId": "bba8fde4-5180-4a20-8874-a7c3b2b568cb",
        "colab": {
          "base_uri": "https://localhost:8080/"
        }
      },
      "outputs": [
        {
          "output_type": "stream",
          "name": "stdout",
          "text": [
            "Sum: 15, Difference: 5, Product: 50, Division: 2.0\n"
          ]
        }
      ],
      "source": [
        "# Addition, Subtraction, Multiplication, Division\n",
        "a = 10\n",
        "b = 5\n",
        "\n",
        "sum_result = a + b\n",
        "difference_result = a - b\n",
        "product_result = a * b\n",
        "division_result = a / b\n",
        "\n",
        "print(f\"Sum: {sum_result}, Difference: {difference_result}, Product: {product_result}, Division: {division_result}\")\n"
      ]
    },
    {
      "cell_type": "markdown",
      "source": [
        "**Exponentiation and Modulus**"
      ],
      "metadata": {
        "id": "L1A8cyZhel8G"
      }
    },
    {
      "cell_type": "code",
      "execution_count": null,
      "metadata": {
        "id": "F0FimSxMRzmS",
        "outputId": "d23c7e59-193c-4a05-da1b-53c1e753c34a",
        "colab": {
          "base_uri": "https://localhost:8080/"
        }
      },
      "outputs": [
        {
          "output_type": "stream",
          "name": "stdout",
          "text": [
            "Power: 8, Modulus: 0\n"
          ]
        }
      ],
      "source": [
        "# Exponentiation (Power) and Modulus (Remainder)\n",
        "base = 2\n",
        "exponent = 3\n",
        "\n",
        "power_result = base ** exponent\n",
        "modulus_result = a % b\n",
        "\n",
        "print(f\"Power: {power_result}, Modulus: {modulus_result}\")"
      ]
    },
    {
      "cell_type": "markdown",
      "source": [
        "**Floor Division**"
      ],
      "metadata": {
        "id": "5J_-KzeDe4l2"
      }
    },
    {
      "cell_type": "code",
      "execution_count": null,
      "metadata": {
        "id": "CjDuJ9zqRzmS",
        "outputId": "821d7d5d-7d3e-4cf3-dc17-a0104318cd44",
        "colab": {
          "base_uri": "https://localhost:8080/"
        }
      },
      "outputs": [
        {
          "output_type": "stream",
          "name": "stdout",
          "text": [
            "Floor Division: 2\n"
          ]
        }
      ],
      "source": [
        "# Floor Division\n",
        "floor_result = a // b   # floored division result\n",
        "\n",
        "print(f\"Floor Division: {floor_result}\")"
      ]
    },
    {
      "cell_type": "markdown",
      "source": [
        "**Absolute Value and Rounding**"
      ],
      "metadata": {
        "id": "mBRQRK5Me-a2"
      }
    },
    {
      "cell_type": "code",
      "execution_count": null,
      "metadata": {
        "id": "q8eSw206RzmT",
        "outputId": "cc5de2a7-8daa-4ba1-de1b-9513b6fdbd23",
        "colab": {
          "base_uri": "https://localhost:8080/"
        }
      },
      "outputs": [
        {
          "output_type": "stream",
          "name": "stdout",
          "text": [
            "Absolute Value: 7.5, Rounded Value: -8\n"
          ]
        }
      ],
      "source": [
        "# Absolute Value and Rounding\n",
        "negative_number = -7.5\n",
        "\n",
        "absolute_value = abs(negative_number)\n",
        "rounded_value = round(negative_number)\n",
        "\n",
        "print(f\"Absolute Value: {absolute_value}, Rounded Value: {rounded_value}\")"
      ]
    },
    {
      "cell_type": "markdown",
      "source": [
        "**Using the math module for advanced number operations**"
      ],
      "metadata": {
        "id": "hlzr4PFFfFce"
      }
    },
    {
      "cell_type": "code",
      "execution_count": null,
      "metadata": {
        "id": "NiPvZZDiRzmT",
        "outputId": "3daf9614-1284-4dea-cdfc-b3c8dccecd1e",
        "colab": {
          "base_uri": "https://localhost:8080/"
        }
      },
      "outputs": [
        {
          "output_type": "stream",
          "name": "stdout",
          "text": [
            "Square Root: 4.0, Factorial: 120, sin(30 degrees): 0.49999999999999994\n"
          ]
        }
      ],
      "source": [
        "import math\n",
        "\n",
        "# Square root, Factorial, and Trigonometric functions\n",
        "square_root = math.sqrt(16)\n",
        "factorial_result = math.factorial(5)\n",
        "sin_value = math.sin(math.radians(30))\n",
        "\n",
        "print(f\"Square Root: {square_root}, Factorial: {factorial_result}, sin(30 degrees): {sin_value}\")"
      ]
    },
    {
      "cell_type": "markdown",
      "source": [
        "**Random Number Generation**"
      ],
      "metadata": {
        "id": "xDRpa1dAfMAe"
      }
    },
    {
      "cell_type": "code",
      "execution_count": null,
      "metadata": {
        "id": "DxWMtt3-RzmU",
        "colab": {
          "base_uri": "https://localhost:8080/"
        },
        "outputId": "0c7bbba1-a8de-4910-9d92-da2ef05a8678"
      },
      "outputs": [
        {
          "output_type": "stream",
          "name": "stdout",
          "text": [
            "Random Number: 33\n",
            "Random Float: 0.8776058395001001\n"
          ]
        }
      ],
      "source": [
        "import random\n",
        "\n",
        "# Generate a random number between 1 and 100\n",
        "random_number = random.randint(1, 100)\n",
        "print(f\"Random Number: {random_number}\")\n",
        "\n",
        "# Generate a random float between 0 and 1\n",
        "random_float = random.random()\n",
        "print(f\"Random Float: {random_float}\")"
      ]
    },
    {
      "cell_type": "markdown",
      "metadata": {
        "id": "SKFSp-jyRzmW"
      },
      "source": [
        "<b>Note:</b> A cell in Python will only display the value of the last expression. If you want to output other values, you should use the *print()* function."
      ]
    },
    {
      "cell_type": "markdown",
      "metadata": {
        "id": "mzYaXui8RzmX"
      },
      "source": [
        "# Object types\n",
        "The basic object types are Numbers, Strings, Lists, Dictionaries, Tuples, Files and Other types (Sets, types, None, Booleans etc.)"
      ]
    },
    {
      "cell_type": "markdown",
      "source": [
        "**Integer and Float**"
      ],
      "metadata": {
        "id": "Kr5AuYMAnIfW"
      }
    },
    {
      "cell_type": "code",
      "source": [
        "a=10.5\n",
        "b=6"
      ],
      "metadata": {
        "id": "m9Ph-hDmteoA"
      },
      "execution_count": null,
      "outputs": []
    },
    {
      "cell_type": "code",
      "execution_count": null,
      "metadata": {
        "id": "2RVFS2BPRzmX",
        "outputId": "aa88fbb5-87be-4460-e89a-2f911b691339",
        "colab": {
          "base_uri": "https://localhost:8080/"
        }
      },
      "outputs": [
        {
          "output_type": "stream",
          "name": "stdout",
          "text": [
            "<class 'float'>\n",
            "<class 'int'>\n"
          ]
        }
      ],
      "source": [
        "# Checking the type of an object\n",
        "print(type(a))\n",
        "print(type(b))"
      ]
    },
    {
      "cell_type": "markdown",
      "source": [
        "**String**"
      ],
      "metadata": {
        "id": "SvfqJBZ9nYBt"
      }
    },
    {
      "cell_type": "code",
      "execution_count": null,
      "metadata": {
        "id": "YgdInV-bRzmZ",
        "outputId": "9e689673-84cb-42a1-9058-29f7f295dbe2",
        "colab": {
          "base_uri": "https://localhost:8080/"
        }
      },
      "outputs": [
        {
          "output_type": "stream",
          "name": "stdout",
          "text": [
            "Hello, Alice\n"
          ]
        }
      ],
      "source": [
        "# Concatenation\n",
        "greeting = \"Hello, \"\n",
        "name = \"Alice\"\n",
        "message = greeting + name  # Combine strings\n",
        "print(message)"
      ]
    },
    {
      "cell_type": "code",
      "execution_count": null,
      "metadata": {
        "id": "SApsog7_RzmZ",
        "outputId": "cdfde359-8c61-4448-e675-62aa3095365a",
        "colab": {
          "base_uri": "https://localhost:8080/"
        }
      },
      "outputs": [
        {
          "output_type": "stream",
          "name": "stdout",
          "text": [
            "Hi! Hi! Hi! \n"
          ]
        }
      ],
      "source": [
        "# Repetition\n",
        "repeat_string = \"Hi! \" * 3\n",
        "print(repeat_string)"
      ]
    },
    {
      "cell_type": "code",
      "source": [
        "# Slicing\n",
        "text = \"Hello, World!\"\n",
        "substring = text[7:12]  # Extract substring\n",
        "print(substring)"
      ],
      "metadata": {
        "colab": {
          "base_uri": "https://localhost:8080/"
        },
        "id": "paYi-atNn01N",
        "outputId": "15d19802-ef87-4784-b67c-f03e29534f20"
      },
      "execution_count": null,
      "outputs": [
        {
          "output_type": "stream",
          "name": "stdout",
          "text": [
            "World\n"
          ]
        }
      ]
    },
    {
      "cell_type": "code",
      "execution_count": null,
      "metadata": {
        "id": "BfxzLD9HRzma",
        "outputId": "d5941ef8-933e-45bf-90a1-40c558f7c717",
        "colab": {
          "base_uri": "https://localhost:8080/"
        }
      },
      "outputs": [
        {
          "output_type": "stream",
          "name": "stdout",
          "text": [
            "HELLO\n",
            "hello\n"
          ]
        }
      ],
      "source": [
        "# Changing case\n",
        "text = \"hello\"\n",
        "upper_case = text.upper()  # Convert to uppercase\n",
        "lower_case = text.lower()  # Convert to lowercase\n",
        "print(upper_case)\n",
        "print(lower_case)"
      ]
    },
    {
      "cell_type": "code",
      "execution_count": null,
      "metadata": {
        "id": "BNSbM0HNRzma",
        "outputId": "052829b2-53a9-4741-ab5d-5deabe182df8",
        "colab": {
          "base_uri": "https://localhost:8080/"
        }
      },
      "outputs": [
        {
          "output_type": "stream",
          "name": "stdout",
          "text": [
            "Hello, World!\n"
          ]
        }
      ],
      "source": [
        "# Stripping whitespace\n",
        "text = \"   Hello, World!   \"\n",
        "stripped_text = text.strip()  # Removes spaces from both ends\n",
        "print(stripped_text)"
      ]
    },
    {
      "cell_type": "code",
      "execution_count": null,
      "metadata": {
        "id": "v6WtfbxURzma",
        "outputId": "9a6d5766-cffb-4f93-d840-6596aee294a5",
        "colab": {
          "base_uri": "https://localhost:8080/"
        }
      },
      "outputs": [
        {
          "output_type": "stream",
          "name": "stdout",
          "text": [
            "7\n"
          ]
        }
      ],
      "source": [
        "# Finding substring\n",
        "text = \"Hello, World!\"\n",
        "index = text.find(\"World\")  # Returns the index where \"substring\" starts\n",
        "print(index)"
      ]
    },
    {
      "cell_type": "code",
      "execution_count": null,
      "metadata": {
        "id": "itSLVn7SRzmb",
        "outputId": "b36c80a6-ac69-45d0-b265-9dc586dbaaae",
        "colab": {
          "base_uri": "https://localhost:8080/"
        }
      },
      "outputs": [
        {
          "output_type": "stream",
          "name": "stdout",
          "text": [
            "Hello, Python!\n"
          ]
        }
      ],
      "source": [
        "# Replacing substring\n",
        "text = \"Hello, World!\"\n",
        "new_text = text.replace(\"World\", \"Python\")\n",
        "print(new_text)"
      ]
    },
    {
      "cell_type": "code",
      "execution_count": null,
      "metadata": {
        "id": "AaNhu8QMRzmb",
        "outputId": "3c6f84cb-4415-42c4-90f4-138f30425616",
        "colab": {
          "base_uri": "https://localhost:8080/"
        }
      },
      "outputs": [
        {
          "output_type": "stream",
          "name": "stdout",
          "text": [
            "True\n",
            "False\n"
          ]
        }
      ],
      "source": [
        "# Checking substring existence\n",
        "text = \"Hello, World!\"\n",
        "contains_hello = \"Hello\" in text\n",
        "contains_python = \"Python\" in text\n",
        "print(contains_hello)\n",
        "print(contains_python)"
      ]
    },
    {
      "cell_type": "code",
      "source": [
        "# String length\n",
        "text = \"Hello, World!\"\n",
        "length = len(text)\n",
        "print(length)"
      ],
      "metadata": {
        "id": "MZ8PWiGzeKhU",
        "colab": {
          "base_uri": "https://localhost:8080/"
        },
        "outputId": "f96abbb4-4796-43d7-fbbe-2bea031c1714"
      },
      "execution_count": null,
      "outputs": [
        {
          "output_type": "stream",
          "name": "stdout",
          "text": [
            "13\n"
          ]
        }
      ]
    },
    {
      "cell_type": "code",
      "execution_count": null,
      "metadata": {
        "id": "k9ICF4NARzmb",
        "outputId": "83599abb-de2b-42ab-d2f7-82abc1c42b9f",
        "colab": {
          "base_uri": "https://localhost:8080/"
        }
      },
      "outputs": [
        {
          "output_type": "stream",
          "name": "stdout",
          "text": [
            "['apple', 'banana', 'orange']\n"
          ]
        }
      ],
      "source": [
        "# Splitting string\n",
        "text = \"apple,banana,orange\"\n",
        "fruits = text.split(\",\")  # Split by comma\n",
        "print(fruits)"
      ]
    },
    {
      "cell_type": "code",
      "execution_count": null,
      "metadata": {
        "id": "J6Q9RXwSRzmb",
        "colab": {
          "base_uri": "https://localhost:8080/"
        },
        "outputId": "28bc8f51-0da9-4a1b-9f6c-045c622add42"
      },
      "outputs": [
        {
          "output_type": "stream",
          "name": "stdout",
          "text": [
            "apple, banana, orange\n"
          ]
        }
      ],
      "source": [
        "# Joining strings\n",
        "fruits = ['apple', 'banana', 'orange']\n",
        "joined_fruits = \", \".join(fruits)\n",
        "print(joined_fruits)"
      ]
    },
    {
      "cell_type": "code",
      "source": [
        "# String formatting\n",
        "name = \"Alice\"\n",
        "age = 25\n",
        "formatted_string = f\"My name is {name} and I am {age} years old.\"\n",
        "print(formatted_string)"
      ],
      "metadata": {
        "colab": {
          "base_uri": "https://localhost:8080/"
        },
        "id": "C-SjRINtoWMa",
        "outputId": "0668055e-d513-4a5b-e0c4-5f1cdfa541ee"
      },
      "execution_count": null,
      "outputs": [
        {
          "output_type": "stream",
          "name": "stdout",
          "text": [
            "My name is Alice and I am 25 years old.\n"
          ]
        }
      ]
    },
    {
      "cell_type": "code",
      "source": [
        "# Checking start or end\n",
        "text = \"Hello, World!\"\n",
        "starts_with_hello = text.startswith(\"Hello\")\n",
        "ends_with_world = text.endswith(\"World!\")\n",
        "print(starts_with_hello)\n",
        "print(ends_with_world)"
      ],
      "metadata": {
        "colab": {
          "base_uri": "https://localhost:8080/"
        },
        "id": "SuMMej-moYkY",
        "outputId": "c0295ba1-b388-4275-8c6c-893ae4baa062"
      },
      "execution_count": null,
      "outputs": [
        {
          "output_type": "stream",
          "name": "stdout",
          "text": [
            "True\n",
            "True\n"
          ]
        }
      ]
    },
    {
      "cell_type": "code",
      "source": [
        "# Counting occurrences\n",
        "text = \"banana\"\n",
        "count_a = text.count(\"a\")\n",
        "print(count_a)"
      ],
      "metadata": {
        "colab": {
          "base_uri": "https://localhost:8080/"
        },
        "id": "de65euTuob61",
        "outputId": "09b7c247-7e14-4aaa-dade-b7930e631985"
      },
      "execution_count": null,
      "outputs": [
        {
          "output_type": "stream",
          "name": "stdout",
          "text": [
            "3\n"
          ]
        }
      ]
    },
    {
      "cell_type": "code",
      "source": [
        "# Checking if alphabetic\n",
        "text = \"Hello\"\n",
        "is_alpha = text.isalpha()\n",
        "print(is_alpha)\n",
        "\n",
        "text = \"Hello123\"\n",
        "is_alpha = text.isalpha()\n",
        "print(is_alpha)"
      ],
      "metadata": {
        "colab": {
          "base_uri": "https://localhost:8080/"
        },
        "id": "Ma2QmusioebO",
        "outputId": "7da4b311-a5b7-47d1-df51-094590a783e9"
      },
      "execution_count": null,
      "outputs": [
        {
          "output_type": "stream",
          "name": "stdout",
          "text": [
            "True\n",
            "False\n"
          ]
        }
      ]
    },
    {
      "cell_type": "code",
      "source": [
        "# Negative index example\n",
        "text = \"Hello, World!\"\n",
        "last_char = text[-1]  # Last character\n",
        "print(last_char)"
      ],
      "metadata": {
        "colab": {
          "base_uri": "https://localhost:8080/"
        },
        "id": "Uw-NHR70oxMd",
        "outputId": "394f8d69-72b8-441a-ed57-48774031167e"
      },
      "execution_count": null,
      "outputs": [
        {
          "output_type": "stream",
          "name": "stdout",
          "text": [
            "!\n"
          ]
        }
      ]
    },
    {
      "cell_type": "code",
      "source": [
        "# Negative index slicing\n",
        "substring = text[-6:-1]\n",
        "print(substring)"
      ],
      "metadata": {
        "colab": {
          "base_uri": "https://localhost:8080/"
        },
        "id": "R5eeGD7uoymd",
        "outputId": "59d11771-35f9-4e5e-94ad-73ca7b0c562b"
      },
      "execution_count": null,
      "outputs": [
        {
          "output_type": "stream",
          "name": "stdout",
          "text": [
            "World\n"
          ]
        }
      ]
    },
    {
      "cell_type": "code",
      "source": [
        "# Reversing string\n",
        "reversed_text = text[::-1]  # Reverse the entire string\n",
        "print(reversed_text)"
      ],
      "metadata": {
        "colab": {
          "base_uri": "https://localhost:8080/"
        },
        "id": "Mbr9R7w9o2bd",
        "outputId": "354f1e7c-c6a5-4040-be4d-e21bfc5350ef"
      },
      "execution_count": null,
      "outputs": [
        {
          "output_type": "stream",
          "name": "stdout",
          "text": [
            "!dlroW ,olleH\n"
          ]
        }
      ]
    },
    {
      "cell_type": "code",
      "source": [
        "# Slicing with negative step\n",
        "reversed_substring = text[-7:-1:2]  # Start from index -7, stop at index -1, step by 2\n",
        "print(reversed_substring)"
      ],
      "metadata": {
        "colab": {
          "base_uri": "https://localhost:8080/"
        },
        "id": "0woH5gW-o-OF",
        "outputId": "b7f6ff59-d500-4a89-b14f-7ce22dd5da8f"
      },
      "execution_count": null,
      "outputs": [
        {
          "output_type": "stream",
          "name": "stdout",
          "text": [
            " ol\n"
          ]
        }
      ]
    },
    {
      "cell_type": "markdown",
      "source": [
        "**List**"
      ],
      "metadata": {
        "id": "0OB3BsVJpBIt"
      }
    },
    {
      "cell_type": "code",
      "execution_count": null,
      "metadata": {
        "id": "1Upn_AwwRzmd",
        "outputId": "5c0341e4-02d2-4fa7-b816-09fa7c195173",
        "colab": {
          "base_uri": "https://localhost:8080/"
        }
      },
      "outputs": [
        {
          "output_type": "stream",
          "name": "stdout",
          "text": [
            "['apple', 'banana', 'cherry']\n"
          ]
        }
      ],
      "source": [
        "# Creating a list\n",
        "fruits = [\"apple\", \"banana\", \"cherry\"]\n",
        "print(fruits)"
      ]
    },
    {
      "cell_type": "code",
      "execution_count": null,
      "metadata": {
        "id": "MSN71x4NRzmd",
        "colab": {
          "base_uri": "https://localhost:8080/"
        },
        "outputId": "153cfe9c-289c-44cb-c8af-c224ae618535"
      },
      "outputs": [
        {
          "output_type": "stream",
          "name": "stdout",
          "text": [
            "apple\n",
            "cherry\n"
          ]
        }
      ],
      "source": [
        "# Accessing list elements\n",
        "first_fruit = fruits[0]\n",
        "print(first_fruit)\n",
        "\n",
        "last_fruit = fruits[-1]  # Last element\n",
        "print(last_fruit)"
      ]
    },
    {
      "cell_type": "markdown",
      "metadata": {
        "id": "EAZkybb9Rzmd"
      },
      "source": [
        "Like strings (and all other built-in sequence types), lists can be indexed and sliced:"
      ]
    },
    {
      "cell_type": "code",
      "execution_count": null,
      "metadata": {
        "id": "mroJxa8xRzmd",
        "outputId": "b8867e8c-6956-4f1f-9e3e-5ef7c3916f6d",
        "colab": {
          "base_uri": "https://localhost:8080/"
        }
      },
      "outputs": [
        {
          "output_type": "stream",
          "name": "stdout",
          "text": [
            "['banana', 'cherry']\n"
          ]
        }
      ],
      "source": [
        "# Slicing a list\n",
        "sublist = fruits[1:3]  # Elements from index 1 to 2\n",
        "print(sublist)"
      ]
    },
    {
      "cell_type": "code",
      "execution_count": null,
      "metadata": {
        "id": "9hZ2VcSURzmd",
        "outputId": "693d7eb7-d746-4fcc-ee11-d6a17b8569e1",
        "colab": {
          "base_uri": "https://localhost:8080/"
        }
      },
      "outputs": [
        {
          "output_type": "stream",
          "name": "stdout",
          "text": [
            "['apple', 'banana', 'cherry', 'orange']\n"
          ]
        }
      ],
      "source": [
        "# Appending an element\n",
        "fruits.append(\"orange\")\n",
        "print(fruits)"
      ]
    },
    {
      "cell_type": "code",
      "execution_count": null,
      "metadata": {
        "id": "7OTvEEpmRzme",
        "outputId": "9ccf7d2f-3b5f-4a07-e6c9-f0f4a5bc8d0a",
        "colab": {
          "base_uri": "https://localhost:8080/"
        }
      },
      "outputs": [
        {
          "output_type": "stream",
          "name": "stdout",
          "text": [
            "['apple', 'grape', 'banana', 'cherry', 'orange']\n"
          ]
        }
      ],
      "source": [
        "# Inserting an element\n",
        "fruits.insert(1, \"grape\")  # Insert \"grape\" at index 1\n",
        "print(fruits)"
      ]
    },
    {
      "cell_type": "code",
      "execution_count": null,
      "metadata": {
        "id": "CNJjqWtzRzme",
        "outputId": "4ea592b7-281c-44db-ac46-682b8ec21d29",
        "colab": {
          "base_uri": "https://localhost:8080/"
        }
      },
      "outputs": [
        {
          "output_type": "stream",
          "name": "stdout",
          "text": [
            "['apple', 'grape', 'cherry', 'orange']\n",
            "cherry\n",
            "['apple', 'grape', 'orange']\n"
          ]
        }
      ],
      "source": [
        "# Removing by value\n",
        "fruits.remove(\"banana\")\n",
        "print(fruits)\n",
        "\n",
        "# Removing by index\n",
        "removed_fruit = fruits.pop(2)  # Removes element at index 2\n",
        "print(removed_fruit)\n",
        "print(fruits)"
      ]
    },
    {
      "cell_type": "code",
      "source": [
        "# Finding the index of an element\n",
        "index_of_grape = fruits.index(\"grape\")\n",
        "print(index_of_grape)"
      ],
      "metadata": {
        "colab": {
          "base_uri": "https://localhost:8080/"
        },
        "id": "XD1ow2RDpjv1",
        "outputId": "cd1a8299-a67d-4a86-b76d-51ad942009f3"
      },
      "execution_count": null,
      "outputs": [
        {
          "output_type": "stream",
          "name": "stdout",
          "text": [
            "1\n"
          ]
        }
      ]
    },
    {
      "cell_type": "code",
      "execution_count": null,
      "metadata": {
        "id": "DyOJ1nzPRzme",
        "outputId": "5749e700-04ab-48c2-a244-0d3514c16031",
        "colab": {
          "base_uri": "https://localhost:8080/"
        }
      },
      "outputs": [
        {
          "output_type": "stream",
          "name": "stdout",
          "text": [
            "True\n",
            "False\n"
          ]
        }
      ],
      "source": [
        "# Checking existence of an element\n",
        "exists = \"apple\" in fruits\n",
        "print(exists)\n",
        "\n",
        "exists = \"banana\" in fruits\n",
        "print(exists)\n"
      ]
    },
    {
      "cell_type": "code",
      "execution_count": null,
      "metadata": {
        "id": "ODxFEFb6Rzme",
        "outputId": "4f7767a9-d511-4316-c2bd-ce8c19f6995a",
        "colab": {
          "base_uri": "https://localhost:8080/"
        }
      },
      "outputs": [
        {
          "output_type": "stream",
          "name": "stdout",
          "text": [
            "3\n"
          ]
        }
      ],
      "source": [
        "# Getting the length of the list\n",
        "length = len(fruits)\n",
        "print(length)"
      ]
    },
    {
      "cell_type": "code",
      "execution_count": null,
      "metadata": {
        "id": "k8zOnP5zRzme",
        "outputId": "3745658d-f8b5-4bdf-b48c-958ec231cc96",
        "colab": {
          "base_uri": "https://localhost:8080/"
        }
      },
      "outputs": [
        {
          "output_type": "stream",
          "name": "stdout",
          "text": [
            "['apple', 'banana', 'grape', 'orange']\n"
          ]
        }
      ],
      "source": [
        "# Sorting a list\n",
        "fruits = [\"orange\", \"banana\", \"apple\", \"grape\"]\n",
        "fruits.sort()\n",
        "print(fruits)"
      ]
    },
    {
      "cell_type": "code",
      "source": [
        "# Reversing a list\n",
        "fruits.reverse()\n",
        "print(fruits)"
      ],
      "metadata": {
        "colab": {
          "base_uri": "https://localhost:8080/"
        },
        "id": "gyMui8TQpwOV",
        "outputId": "eeb53436-f665-4f19-bd5b-321d047a2e30"
      },
      "execution_count": null,
      "outputs": [
        {
          "output_type": "stream",
          "name": "stdout",
          "text": [
            "['orange', 'grape', 'banana', 'apple']\n"
          ]
        }
      ]
    },
    {
      "cell_type": "code",
      "source": [
        "# List comprehension\n",
        "numbers = [1, 2, 3, 4, 5]\n",
        "squared_numbers = [n ** 2 for n in numbers]\n",
        "print(squared_numbers)"
      ],
      "metadata": {
        "colab": {
          "base_uri": "https://localhost:8080/"
        },
        "id": "ji6wnUDopysN",
        "outputId": "c9e37ae3-6d6d-4d05-d8cc-bb63d32a976a"
      },
      "execution_count": null,
      "outputs": [
        {
          "output_type": "stream",
          "name": "stdout",
          "text": [
            "[1, 4, 9, 16, 25]\n"
          ]
        }
      ]
    },
    {
      "cell_type": "code",
      "source": [
        "# Extending a list\n",
        "more_fruits = [\"kiwi\", \"melon\"]\n",
        "fruits.extend(more_fruits)\n",
        "print(fruits)"
      ],
      "metadata": {
        "colab": {
          "base_uri": "https://localhost:8080/"
        },
        "id": "JvTcUVxlp3tl",
        "outputId": "c862e97e-4563-4556-ef2b-6c77ec8d4fad"
      },
      "execution_count": null,
      "outputs": [
        {
          "output_type": "stream",
          "name": "stdout",
          "text": [
            "['orange', 'grape', 'banana', 'apple', 'kiwi', 'melon']\n"
          ]
        }
      ]
    },
    {
      "cell_type": "code",
      "source": [
        "# List with different data types in nested lists\n",
        "mixed_nested_list = [[1, \"apple\", 3.14], [True, \"banana\", None], [False, 42, \"hello\"]]\n",
        "\n",
        "# Accessing elements\n",
        "print(mixed_nested_list[0])\n",
        "print(mixed_nested_list[1][1])\n",
        "print(mixed_nested_list[2][2])\n",
        "\n",
        "# Modifying an element in the nested list\n",
        "mixed_nested_list[2][0] = True\n",
        "print(mixed_nested_list)"
      ],
      "metadata": {
        "colab": {
          "base_uri": "https://localhost:8080/"
        },
        "id": "OW6x5DRFqEA-",
        "outputId": "6c33a19a-4eb5-4ef5-e283-c54226cf608a"
      },
      "execution_count": null,
      "outputs": [
        {
          "output_type": "stream",
          "name": "stdout",
          "text": [
            "[1, 'apple', 3.14]\n",
            "banana\n",
            "hello\n",
            "[[1, 'apple', 3.14], [True, 'banana', None], [True, 42, 'hello']]\n"
          ]
        }
      ]
    },
    {
      "cell_type": "markdown",
      "metadata": {
        "id": "7SDG91olRzmf"
      },
      "source": [
        "Lists also support operations like concatenation"
      ]
    },
    {
      "cell_type": "code",
      "execution_count": null,
      "metadata": {
        "id": "yyLLhPTYRzmf",
        "outputId": "7dd1e4c3-c304-4774-c181-1a8cd04b89b2",
        "colab": {
          "base_uri": "https://localhost:8080/"
        }
      },
      "outputs": [
        {
          "output_type": "stream",
          "name": "stdout",
          "text": [
            "[1, 2, 3, 4, 5, 6]\n"
          ]
        }
      ],
      "source": [
        "# Two lists to concatenate\n",
        "list1 = [1, 2, 3]\n",
        "list2 = [4, 5, 6]\n",
        "\n",
        "# Concatenating the lists\n",
        "result = list1 + list2\n",
        "print(result)  # Output: [1, 2, 3, 4, 5, 6]"
      ]
    },
    {
      "cell_type": "markdown",
      "metadata": {
        "id": "TQ0Azt_2Rzmg"
      },
      "source": [
        "**Dictionary**\n",
        "<p style=\"text-align: justify\">Dictionaries are sometimes found in other languages as “associative memories” or “associative arrays”. Unlike sequences, which are indexed by a range of numbers, dictionaries are indexed by keys, which can be any immutable type; strings and numbers can always be keys.</p>\n",
        "\n",
        "<p style=\"text-align: justify\">It is best to think of a dictionary as a set of key: value pairs, with the requirement that the keys are unique (within one dictionary). A pair of braces creates an empty dictionary: {}. Placing a comma-separated list of key:value pairs within the braces adds initial key:value pairs to the dictionary; this is also the way dictionaries are written on output.</p>"
      ]
    },
    {
      "cell_type": "code",
      "execution_count": null,
      "metadata": {
        "id": "re9nWSYYRzmg",
        "colab": {
          "base_uri": "https://localhost:8080/"
        },
        "outputId": "ed69f94d-2db5-4aa9-8525-d94d949ecc54"
      },
      "outputs": [
        {
          "output_type": "stream",
          "name": "stdout",
          "text": [
            "{'name': 'John', 'age': 25, 'city': 'New York'}\n"
          ]
        }
      ],
      "source": [
        "# Using curly braces\n",
        "person = {\"name\": \"John\", \"age\": 25, \"city\": \"New York\"}\n",
        "\n",
        "# Using dict() constructor\n",
        "person2 = dict(name=\"Jane\", age=30, city=\"Los Angeles\")\n",
        "\n",
        "print(person)"
      ]
    },
    {
      "cell_type": "code",
      "source": [
        "# Accessing a value using a key\n",
        "print(person[\"name\"])\n",
        "print(person2[\"age\"])\n",
        "\n",
        "# Using get() method (safe way to access values)\n",
        "print(person.get(\"city\"))\n",
        "print(person.get(\"country\", \"Not found\"))"
      ],
      "metadata": {
        "colab": {
          "base_uri": "https://localhost:8080/"
        },
        "id": "If-U0e50Ihle",
        "outputId": "f4daebdb-30ba-4255-b441-460cc4f01b7d"
      },
      "execution_count": null,
      "outputs": [
        {
          "output_type": "stream",
          "name": "stdout",
          "text": [
            "John\n",
            "30\n",
            "New York\n",
            "Not found\n"
          ]
        }
      ]
    },
    {
      "cell_type": "code",
      "execution_count": null,
      "metadata": {
        "id": "2GNIumzqRzmg",
        "outputId": "6236aaea-37b2-4c55-cc9f-97fe621bb381",
        "colab": {
          "base_uri": "https://localhost:8080/"
        }
      },
      "outputs": [
        {
          "output_type": "stream",
          "name": "stdout",
          "text": [
            "{'name': 'John', 'age': 26, 'city': 'New York', 'country': 'USA'}\n",
            "{'name': 'John', 'age': 26, 'city': 'New York', 'country': 'USA'}\n"
          ]
        }
      ],
      "source": [
        "# Adding a new key-value pair\n",
        "person[\"country\"] = \"USA\"\n",
        "print(person)\n",
        "\n",
        "# Updating an existing key-value pair\n",
        "person[\"age\"] = 26\n",
        "print(person)"
      ]
    },
    {
      "cell_type": "code",
      "execution_count": null,
      "metadata": {
        "id": "KzHZZf9ERzmg",
        "colab": {
          "base_uri": "https://localhost:8080/"
        },
        "outputId": "95508996-dc3f-4b5e-e7e3-f43d0631bec3"
      },
      "outputs": [
        {
          "output_type": "stream",
          "name": "stdout",
          "text": [
            "{'name': 'John', 'age': 26, 'country': 'USA'}\n",
            "{'name': 'John', 'country': 'USA'}\n",
            "26\n",
            "{'name': 'John'}\n",
            "('country', 'USA')\n"
          ]
        }
      ],
      "source": [
        "# Using del to remove a key-value pair\n",
        "del person[\"city\"]\n",
        "print(person)\n",
        "\n",
        "# Using pop() to remove a key-value pair and get the value\n",
        "age = person.pop(\"age\")\n",
        "print(person)\n",
        "print(age)\n",
        "\n",
        "# Using popitem() to remove and return the last key-value pair\n",
        "last_item = person.popitem()\n",
        "print(person)\n",
        "print(last_item)"
      ]
    },
    {
      "cell_type": "code",
      "execution_count": null,
      "metadata": {
        "id": "onihNMhoRzmg",
        "outputId": "78457610-5337-488b-96d4-f59db85d5f33",
        "colab": {
          "base_uri": "https://localhost:8080/"
        }
      },
      "outputs": [
        {
          "output_type": "stream",
          "name": "stdout",
          "text": [
            "True\n",
            "False\n"
          ]
        }
      ],
      "source": [
        "# Checking if a key exists\n",
        "print(\"name\" in person)\n",
        "print(\"age\" in person)"
      ]
    },
    {
      "cell_type": "code",
      "execution_count": null,
      "metadata": {
        "id": "SII5SLdbRzmg",
        "outputId": "560df336-8cde-485b-d37d-469b31b1e7ab",
        "colab": {
          "base_uri": "https://localhost:8080/"
        }
      },
      "outputs": [
        {
          "output_type": "stream",
          "name": "stdout",
          "text": [
            "name\n",
            "John\n",
            "name John\n"
          ]
        }
      ],
      "source": [
        "# Iterating over keys\n",
        "for key in person:\n",
        "    print(key)\n",
        "\n",
        "# Iterating over values\n",
        "for value in person.values():\n",
        "    print(value)\n",
        "\n",
        "# Iterating over key-value pairs\n",
        "for key, value in person.items():\n",
        "    print(key, value)\n"
      ]
    },
    {
      "cell_type": "markdown",
      "metadata": {
        "id": "4S_g-H7rRzmh"
      },
      "source": [
        "**Tuples and Sets**\n",
        "<br>Use the content from [here](https://docs.python.org/3/tutorial/datastructures.html#tuples-and-sequences) to follow some examples on tuple and set."
      ]
    },
    {
      "cell_type": "code",
      "execution_count": 7,
      "metadata": {
        "id": "LpzjdV5RRzmh",
        "colab": {
          "base_uri": "https://localhost:8080/"
        },
        "outputId": "88c8b6ff-e674-49f3-a5f9-6e6a81189f99"
      },
      "outputs": [
        {
          "output_type": "stream",
          "name": "stdout",
          "text": [
            "First fruit in tuple: apple\n",
            "Colors in set: {'red', 'green', 'blue'}\n"
          ]
        }
      ],
      "source": [
        "fruits = (\"apple\", \"banana\", \"mango\")\n",
        "print(\"First fruit in tuple:\", fruits[0])\n",
        "\n",
        "colors = {\"red\", \"green\", \"blue\", \"red\"}\n",
        "print(\"Colors in set:\", colors)\n"
      ]
    },
    {
      "cell_type": "markdown",
      "metadata": {
        "id": "s235DeNcRzmf"
      },
      "source": [
        "<b> Exercise 1:</b> Implement stack using list\n",
        "<p><b>Hints:</b> The list methods make it very easy to use a list as a stack, where the last element added is the first element retrieved (“last-in, first-out”). To add an item to the top of the stack, use append(). To retrieve an item from the top of the stack, use pop() without an explicit index</p>"
      ]
    },
    {
      "cell_type": "code",
      "source": [
        "stack = []\n",
        "\n",
        "stack.append('A')\n",
        "stack.append('B')\n",
        "stack.append('C')\n",
        "\n",
        "print(stack)\n",
        "\n",
        "x = stack.pop()\n",
        "print(\"Popped:\", x)\n",
        "\n",
        "print(stack)\n",
        "\n",
        "if stack:\n",
        "    print(\"Top:\", stack[-1])\n",
        "else:\n",
        "    print(\"Stack is empty\")\n",
        "\n",
        "print(\"Size:\", len(stack))"
      ],
      "metadata": {
        "id": "fgh96Xz5s0H-",
        "colab": {
          "base_uri": "https://localhost:8080/"
        },
        "outputId": "69465305-b2cd-4e0e-bbbe-aa0652867adf"
      },
      "execution_count": 5,
      "outputs": [
        {
          "output_type": "stream",
          "name": "stdout",
          "text": [
            "['A', 'B', 'C']\n",
            "Popped: C\n",
            "['A', 'B']\n",
            "Top: B\n",
            "Size: 2\n"
          ]
        }
      ]
    },
    {
      "cell_type": "markdown",
      "metadata": {
        "id": "8IBYDynXRzmg"
      },
      "source": [
        "<b> Exercise 2:</b> Implement queue using list\n",
        "<p><b>Hints:</b> It is also possible to use a list as a queue, where the first element added is the first element retrieved (“first-in, first-out”)</p>"
      ]
    },
    {
      "cell_type": "code",
      "source": [
        "class Queue:\n",
        "    def __init__(self):\n",
        "        self.queue = []\n",
        "\n",
        "    def enqueue(self, item):\n",
        "        self.queue.append(item)\n",
        "        print(f\"{item} added to the queue.\")\n",
        "\n",
        "    def dequeue(self):\n",
        "        if not self.is_empty():\n",
        "            item = self.queue.pop(0)\n",
        "            print(f\"{item} removed from the queue.\")\n",
        "            return item\n",
        "        else:\n",
        "            print(\"Queue is empty.\")\n",
        "            return None\n",
        "\n",
        "    def peek(self):\n",
        "        if not self.is_empty():\n",
        "            return self.queue[0]\n",
        "        else:\n",
        "            print(\"Queue is empty.\")\n",
        "            return None\n",
        "\n",
        "    def is_empty(self):\n",
        "        return len(self.queue) == 0\n",
        "\n",
        "    def size(self):\n",
        "        return len(self.queue)\n",
        "\n",
        "    def display(self):\n",
        "        print(\"Current Queue:\", self.queue)\n",
        "\n",
        "my_queue = Queue()\n",
        "my_queue.enqueue(\"Apple\")\n",
        "my_queue.enqueue(\"Banana\")\n",
        "my_queue.enqueue(\"Cherry\")\n",
        "my_queue.display()\n",
        "\n",
        "my_queue.dequeue()\n",
        "my_queue.display()\n",
        "\n",
        "print(\"Front of queue:\", my_queue.peek())\n",
        "print(\"Is queue empty?\", my_queue.is_empty())\n",
        "print(\"Size of queue:\", my_queue.size())"
      ],
      "metadata": {
        "id": "CoNB27jps2I2",
        "colab": {
          "base_uri": "https://localhost:8080/"
        },
        "outputId": "0e6ef857-cdfd-4ffa-b619-5c8a86f429f4"
      },
      "execution_count": 2,
      "outputs": [
        {
          "output_type": "stream",
          "name": "stdout",
          "text": [
            "Apple added to the queue.\n",
            "Banana added to the queue.\n",
            "Cherry added to the queue.\n",
            "Current Queue: ['Apple', 'Banana', 'Cherry']\n",
            "Apple removed from the queue.\n",
            "Current Queue: ['Banana', 'Cherry']\n",
            "Front of queue: Banana\n",
            "Is queue empty? False\n",
            "Size of queue: 2\n"
          ]
        }
      ]
    },
    {
      "cell_type": "markdown",
      "metadata": {
        "id": "6-O7lD6gRzmh"
      },
      "source": [
        "<b> Exercise 3:</b> Define a dictionary to store the details of 3 persons. Also, print some data from the dictionary.\n",
        " <p><b>Hint:</b> You may require nesting dictionary, lists, string inside the dictionary.</p>"
      ]
    },
    {
      "cell_type": "code",
      "source": [
        "people = {\n",
        "    \"people1\": {\n",
        "        \"name\": \"Nazmus\",\n",
        "        \"age\": 20,\n",
        "        \"hobbies\": [\"reading\", \"painting\"],\n",
        "        \"city\": \"Dhaka\"\n",
        "    },\n",
        "    \"people2\": {\n",
        "        \"name\": \"Sadat\",\n",
        "        \"age\": 21,\n",
        "        \"hobbies\": [\"cycling\", \"gaming\"],\n",
        "        \"city\": \"Rajbari\"\n",
        "    },\n",
        "    \"people3\": {\n",
        "        \"name\": \"Numan\",\n",
        "        \"age\": 22,\n",
        "        \"hobbies\": [\"music\", \"traveling\"],\n",
        "        \"city\": \"Pangsha\"\n",
        "    }\n",
        "}\n",
        "\n",
        "print(\"Name of people1:\", people[\"people1\"][\"name\"])\n",
        "print(\"Age of people2:\", people[\"people2\"][\"age\"])\n",
        "print(\"Hobbies of people3:\", people[\"people3\"][\"hobbies\"])\n",
        "print(\"City of people1:\", people[\"people1\"][\"city\"])\n"
      ],
      "metadata": {
        "id": "T6JYZtq3s3zl",
        "colab": {
          "base_uri": "https://localhost:8080/"
        },
        "outputId": "12165845-d6ec-4aa3-d607-50038071c5a4"
      },
      "execution_count": 4,
      "outputs": [
        {
          "output_type": "stream",
          "name": "stdout",
          "text": [
            "Name of people1: Nazmus\n",
            "Age of people2: 21\n",
            "Hobbies of people3: ['music', 'traveling']\n",
            "City of people1: Dhaka\n"
          ]
        }
      ]
    },
    {
      "cell_type": "markdown",
      "source": [
        "# You may add more examples by yourself below"
      ],
      "metadata": {
        "id": "XFcnF_BQs5TF"
      }
    },
    {
      "cell_type": "code",
      "source": [
        "#CODE"
      ],
      "metadata": {
        "id": "ae5SVa9MtRte"
      },
      "execution_count": null,
      "outputs": []
    }
  ],
  "metadata": {
    "kernelspec": {
      "display_name": "Python 3",
      "language": "python",
      "name": "python3"
    },
    "language_info": {
      "codemirror_mode": {
        "name": "ipython",
        "version": 3
      },
      "file_extension": ".py",
      "mimetype": "text/x-python",
      "name": "python",
      "nbconvert_exporter": "python",
      "pygments_lexer": "ipython3",
      "version": "3.8.5"
    },
    "colab": {
      "provenance": []
    }
  },
  "nbformat": 4,
  "nbformat_minor": 0
}