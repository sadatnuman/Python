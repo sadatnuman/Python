{
  "cells": [
    {
      "cell_type": "markdown",
      "metadata": {
        "id": "gVdgbvf19OA9"
      },
      "source": [
        "# About this notebook\n",
        "<p style=\"text-align: justify\"> Here, you will learn the basic statements of python and function. Some codes will be given for demonstration. Some other codes, you will do as excercise.</p>\n",
        "\n",
        "## Submission\n",
        "<p style=\"text-align: justify\">After completing the practice codes and exercises, download the notebook (.pynb file) and submit the notebook  to MS Teams inbox in the class period</p>\n",
        "<p> 1.<b> You must submit your own code</b>. If similarity found negative marking will be given.</p>\n",
        "<p> 2. Modify the file name writing your ID at the beigining of the file name.</p><p> <b>Example: 20-45961-3 Lab 02.ipynb</b></p>\n",
        "<p> 3. Other file format (except .pynb) or link will not be accepted.</p>"
      ]
    },
    {
      "cell_type": "markdown",
      "metadata": {
        "id": "sVSQpyqT9OBH"
      },
      "source": [
        "# User Input"
      ]
    },
    {
      "cell_type": "code",
      "execution_count": null,
      "metadata": {
        "colab": {
          "base_uri": "https://localhost:8080/"
        },
        "id": "JPTt3qbo9OBI",
        "outputId": "4033e5b7-6be8-4026-a1dc-861b6de65f0d"
      },
      "outputs": [
        {
          "output_type": "stream",
          "name": "stdout",
          "text": [
            "Enter your name: asdf\n",
            "Hello, asdf!\n"
          ]
        }
      ],
      "source": [
        "# Basic User Input\n",
        "name = input(\"Enter your name: \")\n",
        "print(\"Hello, \" + name + \"!\")"
      ]
    },
    {
      "cell_type": "code",
      "source": [
        "# Taking Integer Input\n",
        "age = int(input(\"Enter your age: \"))\n",
        "print(\"You will be\", age + 1, \"years old next year.\")"
      ],
      "metadata": {
        "id": "YCouIBhhorBO",
        "colab": {
          "base_uri": "https://localhost:8080/"
        },
        "outputId": "56da5f50-37f7-4e5d-9ee8-a77f7038e971"
      },
      "execution_count": null,
      "outputs": [
        {
          "output_type": "stream",
          "name": "stdout",
          "text": [
            "Enter your age: 23\n",
            "You will be 24 years old next year.\n"
          ]
        }
      ]
    },
    {
      "cell_type": "code",
      "execution_count": null,
      "metadata": {
        "colab": {
          "base_uri": "https://localhost:8080/"
        },
        "id": "WgnNFESa9OBL",
        "outputId": "a9ac67ad-f4d9-496e-adbf-9610b8725ed3"
      },
      "outputs": [
        {
          "output_type": "stream",
          "name": "stdout",
          "text": [
            "Enter two numbers separated by space: 2 3\n",
            "Sum: 5\n"
          ]
        }
      ],
      "source": [
        "#Taking Multiple Inputs (Space-Separated)\n",
        "a, b = map(int, input(\"Enter two numbers separated by space: \").split())\n",
        "print(\"Sum:\", a + b)"
      ]
    },
    {
      "cell_type": "code",
      "execution_count": null,
      "metadata": {
        "id": "qGfffqzZ9OBM",
        "colab": {
          "base_uri": "https://localhost:8080/"
        },
        "outputId": "d0c9402d-660b-4fee-d1c0-26ac7c884f15"
      },
      "outputs": [
        {
          "output_type": "stream",
          "name": "stdout",
          "text": [
            "Enter numbers separated by space: 1 3 4\n",
            "You entered: [1, 3, 4]\n"
          ]
        }
      ],
      "source": [
        "# List Input from User\n",
        "numbers = list(map(int, input(\"Enter numbers separated by space: \").split()))\n",
        "print(\"You entered:\", numbers)"
      ]
    },
    {
      "cell_type": "code",
      "source": [
        "# Handling Invalid Input (Using Try-Except)\n",
        "try:\n",
        "    num = int(input(\"Enter a number: \"))\n",
        "    print(\"Square of the number:\", num ** 2)\n",
        "except ValueError:\n",
        "    print(\"Invalid input! Please enter a valid number.\")\n"
      ],
      "metadata": {
        "colab": {
          "base_uri": "https://localhost:8080/"
        },
        "id": "66KPYYfXqq7a",
        "outputId": "3e18abbb-3019-44d9-a225-c2f1c8ed466b"
      },
      "execution_count": null,
      "outputs": [
        {
          "output_type": "stream",
          "name": "stdout",
          "text": [
            "Enter a number: w2\n",
            "Invalid input! Please enter a valid number.\n"
          ]
        }
      ]
    },
    {
      "cell_type": "markdown",
      "metadata": {
        "id": "yd5uai6a9OBO"
      },
      "source": [
        "# if statement\n",
        "There can be zero or more elif parts, and the else part is optional. The keyword ‘elif’ is short for ‘else if’"
      ]
    },
    {
      "cell_type": "code",
      "source": [
        "# Basic if Statement\n",
        "age = int(input(\"Enter your age: \"))\n",
        "\n",
        "if age >= 18:\n",
        "    print(\"You are eligible to vote.\")\n"
      ],
      "metadata": {
        "id": "cqSEL09hbhkl",
        "colab": {
          "base_uri": "https://localhost:8080/"
        },
        "outputId": "4e4c0728-4830-4667-83af-aa7475397a6f"
      },
      "execution_count": null,
      "outputs": [
        {
          "output_type": "stream",
          "name": "stdout",
          "text": [
            "Enter your age: 22\n",
            "You are eligible to vote.\n"
          ]
        }
      ]
    },
    {
      "cell_type": "code",
      "execution_count": null,
      "metadata": {
        "colab": {
          "base_uri": "https://localhost:8080/"
        },
        "id": "bkNWtGEA9OBP",
        "outputId": "082a5fb5-ed41-480c-c94d-72ba097819ea"
      },
      "outputs": [
        {
          "output_type": "stream",
          "name": "stdout",
          "text": [
            "Enter a number: 2\n",
            "The number is even.\n"
          ]
        }
      ],
      "source": [
        "#if-else Statement\n",
        "num = int(input(\"Enter a number: \"))\n",
        "\n",
        "if num % 2 == 0:\n",
        "    print(\"The number is even.\")\n",
        "else:\n",
        "    print(\"The number is odd.\")\n"
      ]
    },
    {
      "cell_type": "code",
      "execution_count": null,
      "metadata": {
        "colab": {
          "base_uri": "https://localhost:8080/"
        },
        "id": "4-2lHhfa9OBQ",
        "outputId": "4dad869a-17b9-49c5-8f72-892851001017"
      },
      "outputs": [
        {
          "output_type": "stream",
          "name": "stdout",
          "text": [
            "Enter your marks: 33\n",
            "Grade: F\n"
          ]
        }
      ],
      "source": [
        "# if-elif-else Statement\n",
        "marks = int(input(\"Enter your marks: \"))\n",
        "\n",
        "if marks >= 90:\n",
        "    print(\"Grade: A\")\n",
        "elif marks >= 80:\n",
        "    print(\"Grade: B\")\n",
        "elif marks >= 70:\n",
        "    print(\"Grade: C\")\n",
        "elif marks >= 60:\n",
        "    print(\"Grade: D\")\n",
        "else:\n",
        "    print(\"Grade: F\")\n"
      ]
    },
    {
      "cell_type": "code",
      "source": [
        "# Checking Multiple Conditions (and, or)\n",
        "temperature = float(input(\"Enter the temperature: \"))\n",
        "\n",
        "if temperature > 30 and temperature < 40:\n",
        "    print(\"It's a hot day.\")\n",
        "elif temperature >= 40:\n",
        "    print(\"It's extremely hot!\")\n",
        "else:\n",
        "    print(\"The weather is normal.\")\n"
      ],
      "metadata": {
        "colab": {
          "base_uri": "https://localhost:8080/"
        },
        "id": "2LqnpBbure3B",
        "outputId": "301b3cd3-af1c-4a3d-e42d-e80b8db584f6"
      },
      "execution_count": null,
      "outputs": [
        {
          "output_type": "stream",
          "name": "stdout",
          "text": [
            "Enter the temperature: 22\n",
            "The weather is normal.\n"
          ]
        }
      ]
    },
    {
      "cell_type": "code",
      "source": [
        "# Nested if Statement\n",
        "num = int(input(\"Enter a number: \"))\n",
        "\n",
        "if num > 0:\n",
        "    print(\"The number is positive.\")\n",
        "    if num % 2 == 0:\n",
        "        print(\"It is also even.\")\n",
        "    else:\n",
        "        print(\"It is odd.\")\n",
        "elif num < 0:\n",
        "    print(\"The number is negative.\")\n",
        "else:\n",
        "    print(\"The number is zero.\")\n"
      ],
      "metadata": {
        "colab": {
          "base_uri": "https://localhost:8080/"
        },
        "id": "VaSAD9Z0rnGo",
        "outputId": "7373fe1c-3e58-4a48-99fe-7aed2ac62bf9"
      },
      "execution_count": null,
      "outputs": [
        {
          "output_type": "stream",
          "name": "stdout",
          "text": [
            "Enter a number: 23\n",
            "The number is positive.\n",
            "It is odd.\n"
          ]
        }
      ]
    },
    {
      "cell_type": "markdown",
      "metadata": {
        "id": "BLPDtgWr9OBT"
      },
      "source": [
        "# for statement\n",
        "<p style=\"text-align: justify\">The for statement in Python differs a bit from what you may be used to in C or C++. Rather than always giving the user the ability to define both the iteration step and halting condition, Python’s for statement iterates over the items of any sequence (a list or a string), in the order that they appear in the sequence.</p>"
      ]
    },
    {
      "cell_type": "code",
      "execution_count": null,
      "metadata": {
        "colab": {
          "base_uri": "https://localhost:8080/"
        },
        "id": "k6eiUKVF9OBU",
        "outputId": "fda4a48f-36ff-434b-f132-3258510e5c5e"
      },
      "outputs": [
        {
          "output_type": "stream",
          "name": "stdout",
          "text": [
            "Iteration: 0\n",
            "Iteration: 1\n",
            "Iteration: 2\n",
            "Iteration: 3\n",
            "Iteration: 4\n"
          ]
        }
      ],
      "source": [
        "#Basic for Loop\n",
        "for i in range(5):\n",
        "    print(\"Iteration:\", i)\n"
      ]
    },
    {
      "cell_type": "code",
      "source": [
        "# for Loop Over a List\n",
        "fruits = [\"Apple\", \"Banana\", \"Cherry\"]\n",
        "\n",
        "for fruit in fruits:\n",
        "    print(fruit)\n"
      ],
      "metadata": {
        "colab": {
          "base_uri": "https://localhost:8080/"
        },
        "id": "-FTCswVpc4Dd",
        "outputId": "5f4f2bbe-ad43-4e6b-9501-4cb190572007"
      },
      "execution_count": null,
      "outputs": [
        {
          "output_type": "stream",
          "name": "stdout",
          "text": [
            "Apple\n",
            "Banana\n",
            "Cherry\n"
          ]
        }
      ]
    },
    {
      "cell_type": "code",
      "source": [
        "# Looping Through a String\n",
        "word = \"Python\"\n",
        "\n",
        "for char in word:\n",
        "    print(char)\n"
      ],
      "metadata": {
        "colab": {
          "base_uri": "https://localhost:8080/"
        },
        "id": "NdM3WOnovXx2",
        "outputId": "333c4e7c-7b67-4d4f-b500-42da78ef1c12"
      },
      "execution_count": null,
      "outputs": [
        {
          "output_type": "stream",
          "name": "stdout",
          "text": [
            "P\n",
            "y\n",
            "t\n",
            "h\n",
            "o\n",
            "n\n"
          ]
        }
      ]
    },
    {
      "cell_type": "code",
      "source": [
        "# Looping with range(start, stop, step)\n",
        "for i in range(1, 10, 2):\n",
        "    print(i)\n"
      ],
      "metadata": {
        "colab": {
          "base_uri": "https://localhost:8080/"
        },
        "id": "B-5xBavXMl2m",
        "outputId": "3b617e2e-4aee-4562-984c-16d16b69996b"
      },
      "execution_count": null,
      "outputs": [
        {
          "output_type": "stream",
          "name": "stdout",
          "text": [
            "1\n",
            "3\n",
            "5\n",
            "7\n",
            "9\n"
          ]
        }
      ]
    },
    {
      "cell_type": "code",
      "source": [
        "# Looping Over a Dictionary\n",
        "student = {\"name\": \"Alice\", \"age\": 20, \"grade\": \"A\"}\n",
        "\n",
        "for key, value in student.items():\n",
        "    print(key, \":\", value)\n"
      ],
      "metadata": {
        "colab": {
          "base_uri": "https://localhost:8080/"
        },
        "id": "-XYDNRM5M6vy",
        "outputId": "4aacf97d-c921-4689-d4ef-0c7909f1a694"
      },
      "execution_count": null,
      "outputs": [
        {
          "output_type": "stream",
          "name": "stdout",
          "text": [
            "name : Alice\n",
            "age : 20\n",
            "grade : A\n"
          ]
        }
      ]
    },
    {
      "cell_type": "code",
      "source": [
        "# Using for Loop with enumerate()\n",
        "colors = [\"Red\", \"Green\", \"Blue\"]\n",
        "\n",
        "for index, color in enumerate(colors):\n",
        "    print(index, \":\", color)\n"
      ],
      "metadata": {
        "colab": {
          "base_uri": "https://localhost:8080/"
        },
        "id": "lwn8tUUxNFbv",
        "outputId": "602473f7-7152-4da0-a6d3-20454e52df32"
      },
      "execution_count": null,
      "outputs": [
        {
          "output_type": "stream",
          "name": "stdout",
          "text": [
            "0 : Red\n",
            "1 : Green\n",
            "2 : Blue\n"
          ]
        }
      ]
    },
    {
      "cell_type": "code",
      "source": [
        "# Nested for Loop\n",
        "for i in range(1, 4):\n",
        "    for j in range(1, 4):\n",
        "        print(f\"i={i}, j={j}\")\n"
      ],
      "metadata": {
        "colab": {
          "base_uri": "https://localhost:8080/"
        },
        "id": "7V6W6i6ysOm6",
        "outputId": "aabc3a6b-a78e-4def-e816-68c49d770db5"
      },
      "execution_count": null,
      "outputs": [
        {
          "output_type": "stream",
          "name": "stdout",
          "text": [
            "i=1, j=1\n",
            "i=1, j=2\n",
            "i=1, j=3\n",
            "i=2, j=1\n",
            "i=2, j=2\n",
            "i=2, j=3\n",
            "i=3, j=1\n",
            "i=3, j=2\n",
            "i=3, j=3\n"
          ]
        }
      ]
    },
    {
      "cell_type": "code",
      "source": [
        "# for Loop with break and continue\n",
        "for num in range(1, 6):\n",
        "    if num == 3:\n",
        "        continue  # Skips 3\n",
        "    if num == 5:\n",
        "        break  # Stops loop at 5\n",
        "    print(num)\n"
      ],
      "metadata": {
        "colab": {
          "base_uri": "https://localhost:8080/"
        },
        "id": "eljpCkgZsSGK",
        "outputId": "0afd1aca-cbd6-4550-911d-59bcaabf5a87"
      },
      "execution_count": null,
      "outputs": [
        {
          "output_type": "stream",
          "name": "stdout",
          "text": [
            "1\n",
            "2\n",
            "4\n"
          ]
        }
      ]
    },
    {
      "cell_type": "markdown",
      "metadata": {
        "id": "UpWE7Kch9OBd"
      },
      "source": [
        "# Functions\n",
        "<p style=\"text-align: justify\">The keyword def introduces a function definition. It must be followed by the function name and the parenthesized list of formal parameters. The statements that form the body of the function start at the next line, and must be indented.</p>"
      ]
    },
    {
      "cell_type": "code",
      "source": [
        "# Basic Function (No Parameters, No Return)\n",
        "def greet():\n",
        "    print(\"Hello, Welcome to Python!\")\n",
        "\n",
        "greet()  # Calling the function\n"
      ],
      "metadata": {
        "colab": {
          "base_uri": "https://localhost:8080/"
        },
        "id": "6ewe2yQXso3A",
        "outputId": "9b3349d0-d1f1-4942-b31d-f4e15e5eb48e"
      },
      "execution_count": null,
      "outputs": [
        {
          "output_type": "stream",
          "name": "stdout",
          "text": [
            "Hello, Welcome to Python!\n"
          ]
        }
      ]
    },
    {
      "cell_type": "code",
      "source": [
        "# Function with Parameters\n",
        "def add_numbers(a, b):\n",
        "    print(\"Sum:\", a + b)\n",
        "\n",
        "add_numbers(5, 3)  # Output: Sum: 8\n"
      ],
      "metadata": {
        "colab": {
          "base_uri": "https://localhost:8080/"
        },
        "id": "Eva9fj0esshV",
        "outputId": "507f8554-ef60-4902-c1f5-569d0514a354"
      },
      "execution_count": null,
      "outputs": [
        {
          "output_type": "stream",
          "name": "stdout",
          "text": [
            "Sum: 8\n"
          ]
        }
      ]
    },
    {
      "cell_type": "code",
      "source": [
        "# Function with Return Value\n",
        "def multiply(a, b):\n",
        "    return a * b\n",
        "\n",
        "result = multiply(4, 5)\n",
        "print(\"Multiplication:\", result)  # Output: 20\n"
      ],
      "metadata": {
        "colab": {
          "base_uri": "https://localhost:8080/"
        },
        "id": "qvT9R8yLs07w",
        "outputId": "134a3686-ba61-4803-c858-dec06bdf8b70"
      },
      "execution_count": null,
      "outputs": [
        {
          "output_type": "stream",
          "name": "stdout",
          "text": [
            "Multiplication: 20\n"
          ]
        }
      ]
    },
    {
      "cell_type": "code",
      "source": [
        "# Function with Default Parameter\n",
        "def greet(name=\"Guest\"):\n",
        "    print(\"Hello,\", name)\n",
        "\n",
        "greet()          # Output: Hello, Guest\n",
        "greet(\"Alice\")   # Output: Hello, Alice\n"
      ],
      "metadata": {
        "colab": {
          "base_uri": "https://localhost:8080/"
        },
        "id": "n2Hmd9kZs50X",
        "outputId": "c55deadd-5aae-48a1-f1e9-e7f6cd5b55f0"
      },
      "execution_count": null,
      "outputs": [
        {
          "output_type": "stream",
          "name": "stdout",
          "text": [
            "Hello, Guest\n",
            "Hello, Alice\n"
          ]
        }
      ]
    },
    {
      "cell_type": "code",
      "source": [
        "# Function with Multiple Return Values\n",
        "def get_square_and_cube(n):\n",
        "    return n**2, n**3\n",
        "\n",
        "square, cube = get_square_and_cube(3)\n",
        "print(\"Square:\", square, \"Cube:\", cube)  # Output: Square: 9, Cube: 27\n"
      ],
      "metadata": {
        "colab": {
          "base_uri": "https://localhost:8080/"
        },
        "id": "H7O-H8mbtBSM",
        "outputId": "e6afd83d-c5a3-4932-84ab-d86beaae0d17"
      },
      "execution_count": null,
      "outputs": [
        {
          "output_type": "stream",
          "name": "stdout",
          "text": [
            "Square: 9 Cube: 27\n"
          ]
        }
      ]
    },
    {
      "cell_type": "code",
      "source": [
        "# Function Using *args (Multiple Arguments)\n",
        "def add_all(*numbers):\n",
        "    return sum(numbers)\n",
        "\n",
        "print(add_all(1, 2, 3, 4, 5))  # Output: 15\n"
      ],
      "metadata": {
        "colab": {
          "base_uri": "https://localhost:8080/"
        },
        "id": "kIdmOaxitGAR",
        "outputId": "90a0d380-9fdc-467f-ed75-02bcf4c6c9c4"
      },
      "execution_count": null,
      "outputs": [
        {
          "output_type": "stream",
          "name": "stdout",
          "text": [
            "15\n"
          ]
        }
      ]
    },
    {
      "cell_type": "markdown",
      "source": [
        "<b>Exercise 1:</b> Write a Python program to find the sum of the first N natural numbers using a for loop.<br>\n",
        "Example:<br>\n",
        "Input: N = 5  \n",
        "Output: 15\n"
      ],
      "metadata": {
        "id": "CVf1xuAst3a6"
      }
    },
    {
      "cell_type": "code",
      "source": [
        "N = int(input(\"Enter a number: \"))\n",
        "total = 0\n",
        "for i in range(1, N + 1):\n",
        "    total += i\n",
        "print(\"Sum of first\", N, \"natural numbers is:\", total)"
      ],
      "metadata": {
        "id": "iRWd9j10t_sq",
        "colab": {
          "base_uri": "https://localhost:8080/"
        },
        "outputId": "15ffbe70-0277-4e81-ce72-907010169c6a"
      },
      "execution_count": 1,
      "outputs": [
        {
          "output_type": "stream",
          "name": "stdout",
          "text": [
            "Enter a number: 5\n",
            "Sum of first 5 natural numbers is: 15\n"
          ]
        }
      ]
    },
    {
      "cell_type": "markdown",
      "source": [
        "<b>Exercise 2:</b> Write a Python program that reverses a string using a for loop.<br>\n",
        "Example: <br>\n",
        "Input: \"Python\"  \n",
        "Output: \"nohtyP\"\n"
      ],
      "metadata": {
        "id": "xT01zayjuYue"
      }
    },
    {
      "cell_type": "code",
      "source": [
        "text = input(\"Enter a string: \")\n",
        "reversed_text = ''\n",
        "for char in text:\n",
        "    reversed_text = char + reversed_text\n",
        "print(\"Reversed string:\", reversed_text)"
      ],
      "metadata": {
        "id": "rr5KvZkkuxi4",
        "colab": {
          "base_uri": "https://localhost:8080/"
        },
        "outputId": "8cc88f5e-91e7-4a61-9e1b-0df847646cbe"
      },
      "execution_count": 2,
      "outputs": [
        {
          "output_type": "stream",
          "name": "stdout",
          "text": [
            "Enter a string: Numan\n",
            "Reversed string: namuN\n"
          ]
        }
      ]
    },
    {
      "cell_type": "markdown",
      "metadata": {
        "id": "ICNPFsDQ9OBh"
      },
      "source": [
        "<b>Exercise 3:</b> Define a <b>method/function</b> which will take two lists of numbers and returns a list (sum of two lists)\n",
        "<p>Example:<br>\n",
        "    Input: [3,4,5,1] and [6,7,2,8]<br>\n",
        "    output: [9,11,7,9]</p>\n"
      ]
    },
    {
      "cell_type": "code",
      "execution_count": 4,
      "metadata": {
        "id": "5MPMcHnz9OBi",
        "colab": {
          "base_uri": "https://localhost:8080/"
        },
        "outputId": "89ab9c41-32cc-474d-cc9c-e430375d64e9"
      },
      "outputs": [
        {
          "output_type": "stream",
          "name": "stdout",
          "text": [
            "Summed list: [9, 11, 7, 9]\n"
          ]
        }
      ],
      "source": [
        "def sum_lists(list1, list2):\n",
        "    return [a + b for a, b in zip(list1, list2)]\n",
        "\n",
        "list1 = [3,4,5,1]\n",
        "list2 = [6,7,2,8]\n",
        "print(\"Summed list:\", sum_lists(list1, list2))"
      ]
    },
    {
      "cell_type": "markdown",
      "metadata": {
        "id": "DSjaC86G9OBi"
      },
      "source": [
        "<b> Exercise 4:</b> Write a <b>method</b> which will take the <b>full name</b> as input and return both the first name and last name.\n",
        "<p>Example:<br>\n",
        "    Input: Arafat Rahman Sunny<br>\n",
        "    Output: First name: Arafat, Last name: Sunny</p>"
      ]
    },
    {
      "cell_type": "code",
      "execution_count": 6,
      "metadata": {
        "id": "HCpI48lj9OBi",
        "colab": {
          "base_uri": "https://localhost:8080/"
        },
        "outputId": "b9325e8b-8de9-46bd-9a17-d520585ddc2f"
      },
      "outputs": [
        {
          "output_type": "stream",
          "name": "stdout",
          "text": [
            "Enter your full name: Sadat Numan\n",
            "First Name: Sadat\n",
            "Last Name: Numan\n"
          ]
        }
      ],
      "source": [
        "def get_first_last(full_name):\n",
        "    parts = full_name.strip().split()\n",
        "    return parts[0], parts[-1]\n",
        "\n",
        "full_name = input(\"Enter your full name: \")\n",
        "first, last = get_first_last(full_name)\n",
        "print(\"First Name:\", first)\n",
        "print(\"Last Name:\", last)"
      ]
    },
    {
      "cell_type": "markdown",
      "source": [
        "**Do More Exercises**"
      ],
      "metadata": {
        "id": "5sptH6NJu6CD"
      }
    }
  ],
  "metadata": {
    "kernelspec": {
      "display_name": "Python 3",
      "language": "python",
      "name": "python3"
    },
    "language_info": {
      "codemirror_mode": {
        "name": "ipython",
        "version": 3
      },
      "file_extension": ".py",
      "mimetype": "text/x-python",
      "name": "python",
      "nbconvert_exporter": "python",
      "pygments_lexer": "ipython3",
      "version": "3.8.5"
    },
    "colab": {
      "provenance": []
    }
  },
  "nbformat": 4,
  "nbformat_minor": 0
}